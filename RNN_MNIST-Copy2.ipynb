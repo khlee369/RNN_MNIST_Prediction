{
 "cells": [
  {
   "cell_type": "markdown",
   "metadata": {},
   "source": [
    "# Import Library"
   ]
  },
  {
   "cell_type": "code",
   "execution_count": 1,
   "metadata": {
    "collapsed": true
   },
   "outputs": [],
   "source": [
    "import tensorflow as tf\n",
    "from six.moves import cPickle\n",
    "import numpy as np\n",
    "import matplotlib.pyplot as plt\n",
    "import os\n",
    "import shutil"
   ]
  },
  {
   "cell_type": "markdown",
   "metadata": {},
   "source": [
    "# Load Data"
   ]
  },
  {
   "cell_type": "code",
   "execution_count": 2,
   "metadata": {},
   "outputs": [
    {
     "name": "stdout",
     "output_type": "stream",
     "text": [
      "Extracting MNIST_data/train-images-idx3-ubyte.gz\n",
      "Extracting MNIST_data/train-labels-idx1-ubyte.gz\n",
      "Extracting MNIST_data/t10k-images-idx3-ubyte.gz\n",
      "Extracting MNIST_data/t10k-labels-idx1-ubyte.gz\n"
     ]
    }
   ],
   "source": [
    "from tensorflow.examples.tutorials.mnist import input_data\n",
    "mnist = input_data.read_data_sets(\"MNIST_data/\", one_hot=True)"
   ]
  },
  {
   "cell_type": "code",
   "execution_count": 3,
   "metadata": {},
   "outputs": [
    {
     "data": {
      "image/png": "[encoded data removed]",
      "text/plain": [
       "<matplotlib.figure.Figure at 0x7f269f4e4ef0>"
      ]
     },
     "metadata": {},
     "output_type": "display_data"
    }
   ],
   "source": [
    "# Check data\n",
    "train_x, train_y = mnist.train.next_batch(10)\n",
    "img = train_x[9,:].reshape(28, 28)\n",
    "\n",
    "plt.figure(figsize=(5, 3))\n",
    "plt.imshow(img,'gray')\n",
    "plt.title(\"Label : {}\".format(np.argmax(train_y[9])))\n",
    "plt.xticks([])\n",
    "plt.yticks([])\n",
    "plt.show()"
   ]
  },
  {
   "cell_type": "markdown",
   "metadata": {},
   "source": [
    "# Build RNN"
   ]
  },
  {
   "cell_type": "code",
   "execution_count": 4,
   "metadata": {
    "collapsed": true
   },
   "outputs": [],
   "source": [
    "n_step = 14\n",
    "n_input = 28\n",
    "\n",
    "## LSTM shape\n",
    "n_lstm1 = 128\n",
    "n_lstm2 = 258\n",
    "\n",
    "## Fully connected\n",
    "n_hidden1 = 100\n",
    "n_output = 28\n",
    "n_labels = 10"
   ]
  },
  {
   "cell_type": "markdown",
   "metadata": {},
   "source": [
    "# RNN Model(save,load)"
   ]
  },
  {
   "cell_type": "code",
   "execution_count": 12,
   "metadata": {},
   "outputs": [],
   "source": [
    "class RNN:\n",
    "    '''\n",
    "    <Configuration example>\n",
    "    config = {\n",
    "        'ID' : 'test_NN',\n",
    "        'n_iter' : 5000,\n",
    "        'n_prt' : 100,\n",
    "        'n_input' : 28,\n",
    "        'n_step' : 14,\n",
    "        'n_output' : 28,\n",
    "        'n_batch' : 50,\n",
    "        'n_save' : 1000,\n",
    "        'n_history' : 50,\n",
    "        'LR' : 0.0002\n",
    "    }\n",
    "    '''\n",
    "    def __init__(self, config):\n",
    "        self.ID = config['ID']\n",
    "        self.n_iter = config['n_iter']\n",
    "        self.n_prt = config['n_prt']\n",
    "        self.n_input = config['n_input']\n",
    "        self.n_step = config['n_step']\n",
    "        self.n_output = config['n_output']\n",
    "        self.n_batch = config['n_batch']\n",
    "        self.n_save = config['n_save']\n",
    "        self.n_history = config['n_history']\n",
    "        self.LR = config['LR']\n",
    "        self.history = {\n",
    "            'train' : [],\n",
    "        }\n",
    "        \n",
    "        self.checkpoint = 0\n",
    "        self.path = './{}'.format(self.ID)\n",
    "        try: \n",
    "            os.mkdir(self.path)\n",
    "            os.mkdir('{0}/{1}'.format(self.path, 'checkpoint'))\n",
    "        except FileExistsError:\n",
    "            msg = input('[FileExistsError] Will you remove directory? [Y/N] ')\n",
    "            if msg == 'Y': # or debug \n",
    "                shutil.rmtree(self.path)\n",
    "                os.mkdir(self.path)\n",
    "                os.mkdir('{0}/{1}'.format(self.path, 'checkpoint'))\n",
    "            else: \n",
    "                print('Please choose another ID')\n",
    "                assert 0\n",
    "                  \n",
    "        self.graph = tf.Graph()\n",
    "        with self.graph.as_default():\n",
    "            self.x = tf.placeholder(tf.float32, [None, self.n_step, self.n_input], name='x')\n",
    "            self.y = tf.placeholder(tf.float32, [None, self.n_output], name='y')\n",
    "            \n",
    "            self.feature = self.feature_map(self.x)\n",
    "            self.pred = self.clf(self.feature['hidden1'])\n",
    "\n",
    "            self.loss = self.compute_loss(self.pred, self.y)\n",
    "            self.optm = tf.train.AdamOptimizer(learning_rate=self.LR).minimize(self.loss)\n",
    "            self.init = tf.global_variables_initializer()\n",
    "            self.saver = tf.train.Saver(max_to_keep=None)\n",
    "        \n",
    "        self.sess = tf.Session(graph=self.graph, config=tf.ConfigProto(allow_soft_placement=True))\n",
    "        self.sess.run(self.init)\n",
    "        \n",
    "        print('Model ID : {}'.format(self.ID))\n",
    "        print('Model saved at : {}'.format(self.path))\n",
    "\n",
    "    ## Layers\n",
    "    def fully_connected_layer(self, input_tensor, name, n_out, activation_fn=tf.nn.relu):\n",
    "        n_in = input_tensor.get_shape()[-1].value\n",
    "        with tf.variable_scope(name):\n",
    "            weight = tf.get_variable('weight', [n_in, n_out], tf.float32)\n",
    "            bias = tf.get_variable('bias', [n_out], tf.float32, tf.constant_initializer(0.0))\n",
    "            logits = tf.add(tf.matmul(input_tensor, weight), bias, name='logits')\n",
    "        if activation_fn is None : return logits\n",
    "        else : return activation_fn(logits, name='activation')\n",
    "\n",
    "    def lstm_layer(self, input_tensor, name, n_out):\n",
    "        with tf.variable_scope('rnn'):\n",
    "            with tf.variable_scope(name):\n",
    "                lstm = tf.contrib.rnn.BasicLSTMCell(n_out, forget_bias=1.0)\n",
    "                h, c = tf.nn.dynamic_rnn(lstm, input_tensor, dtype=tf.float32)\n",
    "        return h\n",
    "        \n",
    "    ## Feature map\n",
    "    def feature_map(self, x):\n",
    "        with tf.variable_scope('feature_map'):\n",
    "            lstm1_h = self.lstm_layer(x, 'lstm1_h', 128)\n",
    "            lstm2_h = self.lstm_layer(lstm1_h, 'lstm2_h', 256)\n",
    "            hidden1 = self.fully_connected_layer(lstm2_h[:,-1,:], 'hidden1', 100)\n",
    "        return {\n",
    "            'hidden1' : hidden1\n",
    "        }\n",
    "    \n",
    "    ## Compute loss\n",
    "    def compute_loss(self, pred, y):\n",
    "        with tf.variable_scope('compute_loss'):\n",
    "            loss = tf.square(tf.subtract(pred, y))\n",
    "            loss = tf.reduce_mean(loss)\n",
    "        return loss\n",
    "\n",
    "    ## Classifier\n",
    "    def clf(self, feature):\n",
    "        with tf.variable_scope('clf'):\n",
    "            pred = self.fully_connected_layer(feature, 'pred', self.n_output, None)\n",
    "        return pred\n",
    "    \n",
    "    ## Train\n",
    "    def fit(self, data):\n",
    "        for epoch in range(1, self.n_iter+1):\n",
    "            train_x, train_y = data.train.next_batch(self.n_batch)\n",
    "            train_x = train_x.reshape(-1, 28, 28)\n",
    "            \n",
    "            for j in range(self.n_step):\n",
    "                self.sess.run(self.optm, feed_dict={self.x: train_x[:,j:j+self.n_step,:],  self.y: train_x[:,j+self.n_step]})\n",
    "            \n",
    "            if epoch % self.n_prt == 0:\n",
    "                train_loss = self.get_loss(train_x[:,13:13+n_step,:], train_x[:,13+n_step])\n",
    "                print('Your loss ({0}/{1}) : {2}'.format(epoch, self.n_iter, train_loss))\n",
    "                \n",
    "            if epoch % self.n_save == 0:\n",
    "                self.checkpoint += self.n_save\n",
    "                self.save('{0}/{1}/{2}_{3}'.format(self.path, 'checkpoint', self.ID, self.checkpoint))\n",
    "            \n",
    "            if epoch % self.n_history == 0:\n",
    "                test_x, test_y = data.test.next_batch(self.n_batch)\n",
    "                train_loss = self.get_loss(train_x[:,13:13+n_step,:], train_x[:,13+n_step])\n",
    "                self.history['train'].append(train_loss)\n",
    "    \n",
    "    ## Predict\n",
    "    def predict(self, x):\n",
    "        gen_img = []\n",
    "        sample = x.copy()\n",
    "        feeding_img = x.copy()\n",
    "        \n",
    "        for i in range(n_step):\n",
    "            test_pred = self.sess.run(self.pred, feed_dict={self.x: feeding_img.reshape(1, 14, 28)})\n",
    "            feeding_img = np.delete(feeding_img, 0, 0)\n",
    "            feeding_img = np.vstack([feeding_img, test_pred])\n",
    "            gen_img.append(test_pred)\n",
    "        \n",
    "        for i in range(n_step):\n",
    "            sample = np.vstack([sample, gen_img[i]])\n",
    "        \n",
    "        return sample\n",
    "    \n",
    "    ## Analysis\n",
    "    def get_feature(self, x):\n",
    "        feature = self.sess.run(self.feature, feed_dict={self.x : x})\n",
    "        return feature\n",
    "    \n",
    "    def get_loss(self, x, y):\n",
    "        loss = self.sess.run(self.loss, feed_dict={self.x : x, self.y : y})\n",
    "        return loss\n",
    "    \n",
    "    ## Save/Restore\n",
    "    def save(self, path):\n",
    "        self.saver.save(self.sess, path)\n",
    "        \n",
    "    def load(self, path):\n",
    "        self.saver.restore(self.sess, path)\n",
    "        checkpoint = path.split('_')[-1]\n",
    "        self.checkpoint = int(checkpoint)\n",
    "        print('Model loaded from file : {}'.format(path))\n",
    "        "
   ]
  },
  {
   "cell_type": "code",
   "execution_count": 6,
   "metadata": {
    "collapsed": true
   },
   "outputs": [],
   "source": [
    "config = {\n",
    "    'ID' : 'test_RNN',\n",
    "    'n_iter' : 1000,\n",
    "    'n_prt' : 100,\n",
    "    'n_input' : 28,\n",
    "    'n_step' : 14,\n",
    "    'n_output' : 28,\n",
    "    'n_batch' : 50,\n",
    "    'n_save' : 1000,\n",
    "    'n_history' : 50,\n",
    "    'LR' : 0.0002\n",
    "}"
   ]
  },
  {
   "cell_type": "code",
   "execution_count": 7,
   "metadata": {},
   "outputs": [
    {
     "name": "stdout",
     "output_type": "stream",
     "text": [
      "[FileExistsError] Will you remove directory? [Y/N] Y\n",
      "Model ID : test_RNN\n",
      "Model saved at : ./test_RNN\n"
     ]
    }
   ],
   "source": [
    "my_rnn = RNN(config=config)"
   ]
  },
  {
   "cell_type": "code",
   "execution_count": 8,
   "metadata": {},
   "outputs": [
    {
     "name": "stdout",
     "output_type": "stream",
     "text": [
      "Your loss (100/1000) : 0.0024459324777126312\n",
      "Your loss (200/1000) : 0.0022213668562471867\n",
      "Your loss (300/1000) : 0.0014402030501514673\n",
      "Your loss (400/1000) : 0.002330318558961153\n",
      "Your loss (500/1000) : 0.0037491172552108765\n",
      "Your loss (600/1000) : 0.004020224791020155\n",
      "Your loss (700/1000) : 0.0029807849787175655\n",
      "Your loss (800/1000) : 0.001068581361323595\n",
      "Your loss (900/1000) : 0.0005581997684203088\n",
      "Your loss (1000/1000) : 0.0012429053895175457\n",
      "INFO:tensorflow:./test_RNN/checkpoint/test_RNN_1000 is not in all_model_checkpoint_paths. Manually adding it.\n"
     ]
    }
   ],
   "source": [
    "my_rnn.fit(mnist)"
   ]
  },
  {
   "cell_type": "code",
   "execution_count": 9,
   "metadata": {
    "collapsed": true
   },
   "outputs": [],
   "source": [
    "test_x, test_y = mnist.test.next_batch(10)\n",
    "test_x = test_x.reshape(-1, 28, 28)\n",
    "\n",
    "sample = test_x[0, 0:14,:]"
   ]
  },
  {
   "cell_type": "code",
   "execution_count": 14,
   "metadata": {},
   "outputs": [],
   "source": [
    "config2 = {\n",
    "    'ID' : 'test_RNN2',\n",
    "    'n_iter' : 1000,\n",
    "    'n_prt' : 100,\n",
    "    'n_input' : 28,\n",
    "    'n_step' : 14,\n",
    "    'n_output' : 28,\n",
    "    'n_batch' : 50,\n",
    "    'n_save' : 1000,\n",
    "    'n_history' : 50,\n",
    "    'LR' : 0.0002\n",
    "}"
   ]
  },
  {
   "cell_type": "code",
   "execution_count": 15,
   "metadata": {},
   "outputs": [
    {
     "name": "stdout",
     "output_type": "stream",
     "text": [
      "Model ID : test_RNN2\n",
      "Model saved at : ./test_RNN2\n"
     ]
    }
   ],
   "source": [
    "test_rnn = RNN(config=config2)"
   ]
  },
  {
   "cell_type": "code",
   "execution_count": 16,
   "metadata": {},
   "outputs": [
    {
     "name": "stdout",
     "output_type": "stream",
     "text": [
      "INFO:tensorflow:Restoring parameters from ./test_RNN/checkpoint/test_RNN_1000\n",
      "Model loaded from file : ./test_RNN/checkpoint/test_RNN_1000\n"
     ]
    }
   ],
   "source": [
    "test_rnn.load('./test_RNN/checkpoint/test_RNN_1000')"
   ]
  },
  {
   "cell_type": "code",
   "execution_count": 19,
   "metadata": {},
   "outputs": [],
   "source": [
    "gen_img = test_rnn.predict(sample)"
   ]
  },
  {
   "cell_type": "code",
   "execution_count": 21,
   "metadata": {},
   "outputs": [
    {
     "data": {
      "image/png": "[encoded data removed]",
      "text/plain": [
       "<matplotlib.figure.Figure at 0x7f26903765c0>"
      ]
     },
     "metadata": {},
     "output_type": "display_data"
    },
    {
     "data": {
      "image/png": "[encoded data removed]",
      "text/plain": [
       "<matplotlib.figure.Figure at 0x7f269032a6a0>"
      ]
     },
     "metadata": {},
     "output_type": "display_data"
    },
    {
     "data": {
      "image/png": "[encoded data removed]",
      "text/plain": [
       "<matplotlib.figure.Figure at 0x7f26902fd908>"
      ]
     },
     "metadata": {},
     "output_type": "display_data"
    }
   ],
   "source": [
    "plt.imshow(test_x[0], 'gray')\n",
    "plt.title('Original Img')\n",
    "plt.xticks([])\n",
    "plt.yticks([])\n",
    "plt.show()\n",
    "\n",
    "plt.figure(figsize=(4,3))\n",
    "plt.imshow(sample, 'gray')\n",
    "plt.title('Input')\n",
    "plt.xticks([])\n",
    "plt.yticks([])\n",
    "plt.show()\n",
    "\n",
    "plt.imshow(gen_img, 'gray')\n",
    "plt.title('Generated Img')\n",
    "plt.xticks([])\n",
    "plt.yticks([])\n",
    "plt.show()"
   ]
  },
  {
   "cell_type": "code",
   "execution_count": 22,
   "metadata": {
    "collapsed": true
   },
   "outputs": [],
   "source": [
    "config3 = {\n",
    "    'ID' : 'Hanwha_RNN',\n",
    "    'n_iter' : 5000,\n",
    "    'n_prt' : 100,\n",
    "    'n_input' : 28,\n",
    "    'n_step' : 14,\n",
    "    'n_output' : 28,\n",
    "    'n_batch' : 50,\n",
    "    'n_save' : 1000,\n",
    "    'n_history' : 50,\n",
    "    'LR' : 0.0002\n",
    "}"
   ]
  },
  {
   "cell_type": "code",
   "execution_count": 23,
   "metadata": {},
   "outputs": [
    {
     "name": "stdout",
     "output_type": "stream",
     "text": [
      "Model ID : Hanwha_RNN\n",
      "Model saved at : ./Hanwha_RNN\n"
     ]
    }
   ],
   "source": [
    "hanwha_rnn = RNN(config=config3)"
   ]
  },
  {
   "cell_type": "code",
   "execution_count": 24,
   "metadata": {},
   "outputs": [
    {
     "name": "stdout",
     "output_type": "stream",
     "text": [
      "INFO:tensorflow:Restoring parameters from ./test_RNN/checkpoint/test_RNN_1000\n",
      "Model loaded from file : ./test_RNN/checkpoint/test_RNN_1000\n"
     ]
    }
   ],
   "source": [
    "hanwha_rnn.load('./test_RNN/checkpoint/test_RNN_1000')"
   ]
  },
  {
   "cell_type": "code",
   "execution_count": 25,
   "metadata": {
    "scrolled": true
   },
   "outputs": [
    {
     "name": "stdout",
     "output_type": "stream",
     "text": [
      "Your loss (100/5000) : 0.00036756834015250206\n",
      "Your loss (200/5000) : 0.0011339897755533457\n",
      "Your loss (300/5000) : 0.0031440616585314274\n",
      "Your loss (400/5000) : 0.002004848560318351\n",
      "Your loss (500/5000) : 9.84356738626957e-05\n",
      "Your loss (600/5000) : 0.00048287506797350943\n",
      "Your loss (700/5000) : 0.00141067651566118\n",
      "Your loss (800/5000) : 0.001673096208833158\n",
      "Your loss (900/5000) : 0.00010844600183190778\n",
      "Your loss (1000/5000) : 0.0021798936650156975\n",
      "INFO:tensorflow:./Hanwha_RNN/checkpoint/Hanwha_RNN_2000 is not in all_model_checkpoint_paths. Manually adding it.\n",
      "Your loss (1100/5000) : 0.00038319596205838025\n",
      "Your loss (1200/5000) : 0.002291044918820262\n",
      "Your loss (1300/5000) : 0.0023889155127108097\n",
      "Your loss (1400/5000) : 0.00195339135825634\n",
      "Your loss (1500/5000) : 0.002840400207787752\n",
      "Your loss (1600/5000) : 0.002319819526746869\n",
      "Your loss (1700/5000) : 0.0006462199380621314\n",
      "Your loss (1800/5000) : 4.039785562781617e-05\n",
      "Your loss (1900/5000) : 0.000664272578433156\n",
      "Your loss (2000/5000) : 0.0027445247396826744\n",
      "INFO:tensorflow:./Hanwha_RNN/checkpoint/Hanwha_RNN_3000 is not in all_model_checkpoint_paths. Manually adding it.\n",
      "Your loss (2100/5000) : 0.0006745368591509759\n",
      "Your loss (2200/5000) : 0.0026059853844344616\n",
      "Your loss (2300/5000) : 0.000599643390160054\n",
      "Your loss (2400/5000) : 0.002885472262278199\n",
      "Your loss (2500/5000) : 0.0004802514740731567\n",
      "Your loss (2600/5000) : 0.0005542136495932937\n",
      "Your loss (2700/5000) : 0.0022604973055422306\n",
      "Your loss (2800/5000) : 0.0013895201263949275\n",
      "Your loss (2900/5000) : 0.00257393391802907\n",
      "Your loss (3000/5000) : 0.003443140769377351\n",
      "INFO:tensorflow:./Hanwha_RNN/checkpoint/Hanwha_RNN_4000 is not in all_model_checkpoint_paths. Manually adding it.\n",
      "Your loss (3100/5000) : 0.0017724247882142663\n",
      "Your loss (3200/5000) : 0.0007407892262563109\n",
      "Your loss (3300/5000) : 0.0016537007177248597\n",
      "Your loss (3400/5000) : 0.0005584975588135421\n",
      "Your loss (3500/5000) : 0.0011369279818609357\n",
      "Your loss (3600/5000) : 0.0026411961298435926\n",
      "Your loss (3700/5000) : 0.0006684972322545946\n",
      "Your loss (3800/5000) : 0.00079459382686764\n",
      "Your loss (3900/5000) : 0.0008935420191846788\n",
      "Your loss (4000/5000) : 0.0006543274503201246\n",
      "INFO:tensorflow:./Hanwha_RNN/checkpoint/Hanwha_RNN_5000 is not in all_model_checkpoint_paths. Manually adding it.\n",
      "Your loss (4100/5000) : 0.0013123342068865895\n",
      "Your loss (4200/5000) : 0.00036767282290384173\n",
      "Your loss (4300/5000) : 0.00021099706646054983\n",
      "Your loss (4400/5000) : 0.00029863015515729785\n",
      "Your loss (4500/5000) : 0.0005619436269626021\n",
      "Your loss (4600/5000) : 0.0015241520013660192\n",
      "Your loss (4700/5000) : 0.0002850941673386842\n",
      "Your loss (4800/5000) : 0.000870129675604403\n",
      "Your loss (4900/5000) : 0.00109283032361418\n",
      "Your loss (5000/5000) : 0.0028136982582509518\n",
      "INFO:tensorflow:./Hanwha_RNN/checkpoint/Hanwha_RNN_6000 is not in all_model_checkpoint_paths. Manually adding it.\n"
     ]
    }
   ],
   "source": [
    "hanwha_rnn.fit(mnist)"
   ]
  },
  {
   "cell_type": "code",
   "execution_count": 191,
   "metadata": {},
   "outputs": [
    {
     "data": {
      "image/png": "[encoded data removed]",
      "text/plain": [
       "<matplotlib.figure.Figure at 0x7f256c0587f0>"
      ]
     },
     "metadata": {},
     "output_type": "display_data"
    },
    {
     "data": {
      "image/png": "[encoded data removed]",
      "text/plain": [
       "<matplotlib.figure.Figure at 0x7f256c3a8b38>"
      ]
     },
     "metadata": {},
     "output_type": "display_data"
    },
    {
     "data": {
      "image/png": "[encoded data removed]",
      "text/plain": [
       "<matplotlib.figure.Figure at 0x7f256c35ae48>"
      ]
     },
     "metadata": {},
     "output_type": "display_data"
    }
   ],
   "source": [
    "test_x, test_y = mnist.test.next_batch(10)\n",
    "test_x = test_x.reshape(-1, 28, 28)\n",
    "\n",
    "sample = test_x[0, 0:14,:]\n",
    "\n",
    "gen_img = hanwha_rnn.predict(sample)\n",
    "\n",
    "plt.imshow(test_x[0], 'gray')\n",
    "plt.title('Original Img')\n",
    "plt.xticks([])\n",
    "plt.yticks([])\n",
    "plt.show()\n",
    "\n",
    "plt.figure(figsize=(4,3))\n",
    "plt.imshow(sample, 'gray')\n",
    "plt.title('Input')\n",
    "plt.xticks([])\n",
    "plt.yticks([])\n",
    "plt.show()\n",
    "\n",
    "plt.imshow(gen_img, 'gray')\n",
    "plt.title('Generated Img')\n",
    "plt.xticks([])\n",
    "plt.yticks([])\n",
    "plt.show()"
   ]
  },
  {
   "cell_type": "code",
   "execution_count": 114,
   "metadata": {
    "collapsed": true
   },
   "outputs": [],
   "source": [
    "config3 = {\n",
    "    'ID' : 'Hanwha_RNN2',\n",
    "    'n_iter' : 5000,\n",
    "    'n_prt' : 100,\n",
    "    'n_input' : 28,\n",
    "    'n_step' : 14,\n",
    "    'n_output' : 28,\n",
    "    'n_batch' : 50,\n",
    "    'n_save' : 1000,\n",
    "    'n_history' : 50,\n",
    "    'LR' : 0.0002\n",
    "}"
   ]
  },
  {
   "cell_type": "code",
   "execution_count": 115,
   "metadata": {},
   "outputs": [
    {
     "name": "stdout",
     "output_type": "stream",
     "text": [
      "Model ID : Hanwha_RNN2\n",
      "Model saved at : ./Hanwha_RNN2\n"
     ]
    }
   ],
   "source": [
    "mm = RNN(config=config3)"
   ]
  },
  {
   "cell_type": "code",
   "execution_count": 116,
   "metadata": {},
   "outputs": [
    {
     "name": "stdout",
     "output_type": "stream",
     "text": [
      "INFO:tensorflow:Restoring parameters from ./Hanwha_RNN/checkpoint/Hanwha_RNN_2000\n",
      "Model loaded from file : ./Hanwha_RNN/checkpoint/Hanwha_RNN_2000\n"
     ]
    }
   ],
   "source": [
    "mm.load('./Hanwha_RNN/checkpoint/Hanwha_RNN_2000')"
   ]
  },
  {
   "cell_type": "code",
   "execution_count": 180,
   "metadata": {},
   "outputs": [
    {
     "data": {
      "image/png": "[encoded data removed]",
      "text/plain": [
       "<matplotlib.figure.Figure at 0x7f256c0e01d0>"
      ]
     },
     "metadata": {},
     "output_type": "display_data"
    },
    {
     "data": {
      "image/png": "[encoded data removed]",
      "text/plain": [
       "<matplotlib.figure.Figure at 0x7f25546f2f28>"
      ]
     },
     "metadata": {},
     "output_type": "display_data"
    },
    {
     "data": {
      "image/png": "[encoded data removed]",
      "text/plain": [
       "<matplotlib.figure.Figure at 0x7f2554475ac8>"
      ]
     },
     "metadata": {},
     "output_type": "display_data"
    }
   ],
   "source": [
    "test_x, test_y = mnist.test.next_batch(10)\n",
    "test_x = test_x.reshape(-1, 28, 28)\n",
    "\n",
    "sample = test_x[0, 0:14,:]\n",
    "\n",
    "gen_img = mm.predict(sample)\n",
    "\n",
    "plt.imshow(test_x[0], 'gray')\n",
    "plt.title('Original Img')\n",
    "plt.xticks([])\n",
    "plt.yticks([])\n",
    "plt.show()\n",
    "\n",
    "plt.figure(figsize=(4,3))\n",
    "plt.imshow(sample, 'gray')\n",
    "plt.title('Input')\n",
    "plt.xticks([])\n",
    "plt.yticks([])\n",
    "plt.show()\n",
    "\n",
    "plt.imshow(gen_img, 'gray')\n",
    "plt.title('Generated Img')\n",
    "plt.xticks([])\n",
    "plt.yticks([])\n",
    "plt.show()"
   ]
  }
 ],
 "metadata": {
  "kernelspec": {
   "display_name": "Python 3",
   "language": "python",
   "name": "python3"
  },
  "language_info": {
   "codemirror_mode": {
    "name": "ipython",
    "version": 3
   },
   "file_extension": ".py",
   "mimetype": "text/x-python",
   "name": "python",
   "nbconvert_exporter": "python",
   "pygments_lexer": "ipython3",
   "version": "3.7.3"
  }
 },
 "nbformat": 4,
 "nbformat_minor": 2
}
