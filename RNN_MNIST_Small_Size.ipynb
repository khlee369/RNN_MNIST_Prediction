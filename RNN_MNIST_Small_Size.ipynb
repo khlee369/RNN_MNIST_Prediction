{
 "cells": [
  {
   "cell_type": "markdown",
   "metadata": {},
   "source": [
    "# Import Library"
   ]
  },
  {
   "cell_type": "code",
   "execution_count": 1,
   "metadata": {
    "collapsed": true
   },
   "outputs": [],
   "source": [
    "import tensorflow as tf\n",
    "from six.moves import cPickle\n",
    "import numpy as np\n",
    "import matplotlib.pyplot as plt"
   ]
  },
  {
   "cell_type": "markdown",
   "metadata": {},
   "source": [
    "# Load Data"
   ]
  },
  {
   "cell_type": "code",
   "execution_count": 2,
   "metadata": {},
   "outputs": [
    {
     "name": "stdout",
     "output_type": "stream",
     "text": [
      "Extracting MNIST_data/train-images-idx3-ubyte.gz\n",
      "Extracting MNIST_data/train-labels-idx1-ubyte.gz\n",
      "Extracting MNIST_data/t10k-images-idx3-ubyte.gz\n",
      "Extracting MNIST_data/t10k-labels-idx1-ubyte.gz\n"
     ]
    }
   ],
   "source": [
    "from tensorflow.examples.tutorials.mnist import input_data\n",
    "mnist = input_data.read_data_sets(\"MNIST_data/\", one_hot=True)"
   ]
  },
  {
   "cell_type": "code",
   "execution_count": 3,
   "metadata": {},
   "outputs": [
    {
     "data": {
      "image/png": "[encoded data removed]",
      "text/plain": [
       "<matplotlib.figure.Figure at 0x18ade14f630>"
      ]
     },
     "metadata": {},
     "output_type": "display_data"
    }
   ],
   "source": [
    "# Check data\n",
    "train_x, train_y = mnist.train.next_batch(10)\n",
    "img = train_x[9,:].reshape(28, 28)\n",
    "\n",
    "plt.figure(figsize=(5, 3))\n",
    "plt.imshow(img,'gray')\n",
    "plt.title(\"Label : {}\".format(np.argmax(train_y[9])))\n",
    "plt.xticks([])\n",
    "plt.yticks([])\n",
    "plt.show()"
   ]
  },
  {
   "cell_type": "markdown",
   "metadata": {},
   "source": [
    "# Build RNN"
   ]
  },
  {
   "cell_type": "code",
   "execution_count": 4,
   "metadata": {
    "collapsed": true
   },
   "outputs": [],
   "source": [
    "n_step = 14\n",
    "n_input = 28\n",
    "\n",
    "## LSTM shape\n",
    "n_lstm1 = 10\n",
    "n_lstm2 = 10\n",
    "\n",
    "## Fully connected\n",
    "n_hidden1 = 100\n",
    "n_output = 28\n",
    "n_labels = 10"
   ]
  },
  {
   "cell_type": "code",
   "execution_count": 5,
   "metadata": {
    "collapsed": true
   },
   "outputs": [],
   "source": [
    "weights = {\n",
    "    'hidden1' : tf.Variable(tf.random_normal([n_lstm2, n_hidden1], stddev=0.01)),\n",
    "    'output' : tf.Variable(tf.random_normal([n_hidden1, n_output], stddev=0.01)),\n",
    "}\n",
    "\n",
    "biases = {\n",
    "    'hidden1' : tf.Variable(tf.random_normal([n_hidden1], stddev=0.01)),\n",
    "    'output' : tf.Variable(tf.random_normal([n_output], stddev=0.01))\n",
    "}\n",
    "\n",
    "x = tf.placeholder(tf.float32, [None, n_step, n_input])\n",
    "y = tf.placeholder(tf.float32, [None, n_output])"
   ]
  },
  {
   "cell_type": "code",
   "execution_count": 6,
   "metadata": {
    "collapsed": true
   },
   "outputs": [],
   "source": [
    "def RNN(x, weights, biases):\n",
    "    # x = tf.unstack(x, n_step, 1)\n",
    "    with tf.variable_scope('rnn'):\n",
    "        with tf.variable_scope('lstm1'):\n",
    "            lstm1 = tf.contrib.rnn.BasicLSTMCell(n_lstm1, forget_bias=1.0)\n",
    "            h1, c1 = tf.nn.dynamic_rnn(lstm1, x, dtype=tf.float32)\n",
    "        with tf.variable_scope('lstm2'):\n",
    "            lstm2 = tf.contrib.rnn.BasicLSTMCell(n_lstm2, forget_bias=1.0)\n",
    "            h2, c2 = tf.nn.dynamic_rnn(lstm2, h1, dtype=tf.float32)\n",
    "    \n",
    "    hidden1 = tf.add(tf.matmul(h2[:,-1,:], weights['hidden1']), biases['hidden1'])\n",
    "    hidden1 = tf.nn.relu(hidden1)\n",
    "    output = tf.add(tf.matmul(hidden1, weights['output']), biases['output'])\n",
    "    return output"
   ]
  },
  {
   "cell_type": "markdown",
   "metadata": {},
   "source": [
    "# Learning"
   ]
  },
  {
   "cell_type": "code",
   "execution_count": 7,
   "metadata": {
    "collapsed": true,
    "scrolled": false
   },
   "outputs": [],
   "source": [
    "LR = 0.0005\n",
    "\n",
    "pred = RNN(x, weights, biases)\n",
    "loss = tf.square(tf.subtract(y, pred))\n",
    "loss = tf.reduce_mean(loss)\n",
    "\n",
    "optm = tf.train.AdamOptimizer(LR).minimize(loss)\n",
    "\n",
    "init = tf.global_variables_initializer()"
   ]
  },
  {
   "cell_type": "code",
   "execution_count": 8,
   "metadata": {
    "collapsed": true
   },
   "outputs": [],
   "source": [
    "n_iter = 2000\n",
    "n_prt = 100"
   ]
  },
  {
   "cell_type": "code",
   "execution_count": 10,
   "metadata": {},
   "outputs": [
    {
     "name": "stdout",
     "output_type": "stream",
     "text": [
      "Iter : 0\n",
      "Cost : 0.00016300730931106955\n",
      "Iter : 100\n",
      "Cost : 0.002514573512598872\n",
      "Iter : 200\n",
      "Cost : 0.0014068040763959289\n",
      "Iter : 300\n",
      "Cost : 0.0010495292954146862\n",
      "Iter : 400\n",
      "Cost : 0.0008869879529811442\n",
      "Iter : 500\n",
      "Cost : 0.0029998375102877617\n",
      "Iter : 600\n",
      "Cost : 0.0021684602834284306\n",
      "Iter : 700\n",
      "Cost : 0.002273449208587408\n",
      "Iter : 800\n",
      "Cost : 0.0014120739651843905\n",
      "Iter : 900\n",
      "Cost : 0.0010100194485858083\n",
      "Iter : 1000\n",
      "Cost : 0.0027598575688898563\n",
      "Iter : 1100\n",
      "Cost : 0.0010020581539720297\n",
      "Iter : 1200\n",
      "Cost : 0.002128554740920663\n",
      "Iter : 1300\n",
      "Cost : 0.0009428347693756223\n",
      "Iter : 1400\n",
      "Cost : 0.0013973490567877889\n",
      "Iter : 1500\n",
      "Cost : 0.002235750900581479\n",
      "Iter : 1600\n",
      "Cost : 0.0010215746005997062\n",
      "Iter : 1700\n",
      "Cost : 0.0018125694477930665\n",
      "Iter : 1800\n",
      "Cost : 0.0013625064166262746\n",
      "Iter : 1900\n",
      "Cost : 0.0022600265219807625\n"
     ]
    }
   ],
   "source": [
    "sess = tf.Session()\n",
    "sess.run(init)\n",
    "\n",
    "for i in range(n_iter):\n",
    "    train_x, train_y = mnist.train.next_batch(50)\n",
    "    train_x = train_x.reshape(-1, 28, 28)\n",
    "    \n",
    "    for j in range(n_step):\n",
    "        sess.run(optm, feed_dict={x: train_x[:,j:j+n_step,:],  y: train_x[:,j+n_step]})\n",
    "    if i % n_prt == 0:\n",
    "        c = sess.run(loss, feed_dict={x: train_x[:,13:13+n_step,:],  y: train_x[:,13+n_step]})\n",
    "        print (\"Iter : {}\".format(i))\n",
    "        print (\"Cost : {}\".format(c))"
   ]
  },
  {
   "cell_type": "markdown",
   "metadata": {},
   "source": [
    "# Predict (data : only MNIST)"
   ]
  },
  {
   "cell_type": "code",
   "execution_count": 68,
   "metadata": {},
   "outputs": [
    {
     "data": {
      "image/png": "[encoded data removed]",
      "text/plain": [
       "<matplotlib.figure.Figure at 0x18ae34abb38>"
      ]
     },
     "metadata": {},
     "output_type": "display_data"
    },
    {
     "data": {
      "image/png": "[encoded data removed]",
      "text/plain": [
       "<matplotlib.figure.Figure at 0x18ae0db32e8>"
      ]
     },
     "metadata": {},
     "output_type": "display_data"
    },
    {
     "data": {
      "image/png": "[encoded data removed]",
      "text/plain": [
       "<matplotlib.figure.Figure at 0x18ae0aa1080>"
      ]
     },
     "metadata": {},
     "output_type": "display_data"
    }
   ],
   "source": [
    "test_x, test_y = mnist.test.next_batch(10)\n",
    "test_x = test_x.reshape(-1, 28, 28)\n",
    "\n",
    "idx = 0\n",
    "gen_img = []\n",
    "sample = test_x[idx, 0:14, :]\n",
    "input_img = sample.copy()\n",
    "\n",
    "for i in range(n_step):\n",
    "    test_pred = sess.run(pred, feed_dict={x: test_x[idx, i:i+n_step, :].reshape(1, 14, 28)})\n",
    "    gen_img.append(test_pred)\n",
    "\n",
    "for i in range(n_step):\n",
    "    sample = np.vstack([sample, gen_img[i]])\n",
    "    \n",
    "plt.imshow(test_x[idx], 'gray')\n",
    "plt.title('Original Img')\n",
    "plt.xticks([])\n",
    "plt.yticks([])\n",
    "plt.show()\n",
    "\n",
    "plt.figure(figsize=(4,3))\n",
    "plt.imshow(input_img, 'gray')\n",
    "plt.title('Input')\n",
    "plt.xticks([])\n",
    "plt.yticks([])\n",
    "plt.show()\n",
    "\n",
    "plt.imshow(sample, 'gray')\n",
    "plt.title('Generated Img')\n",
    "plt.xticks([])\n",
    "plt.yticks([])\n",
    "plt.show()"
   ]
  },
  {
   "cell_type": "markdown",
   "metadata": {},
   "source": [
    "# Predict (data : first dim 14 == Mnist, other dim 14 == gen_img)"
   ]
  },
  {
   "cell_type": "code",
   "execution_count": 73,
   "metadata": {},
   "outputs": [
    {
     "data": {
      "image/png": "[encoded data removed]",
      "text/plain": [
       "<matplotlib.figure.Figure at 0x18ae34350f0>"
      ]
     },
     "metadata": {},
     "output_type": "display_data"
    },
    {
     "data": {
      "image/png": "[encoded data removed]",
      "text/plain": [
       "<matplotlib.figure.Figure at 0x18ae1d63a58>"
      ]
     },
     "metadata": {},
     "output_type": "display_data"
    },
    {
     "data": {
      "image/png": "[encoded data removed]",
      "text/plain": [
       "<matplotlib.figure.Figure at 0x18ae1e02358>"
      ]
     },
     "metadata": {},
     "output_type": "display_data"
    }
   ],
   "source": [
    "test_x, test_y = mnist.test.next_batch(10)\n",
    "test_x = test_x.reshape(-1, 28, 28)\n",
    "\n",
    "idx = 0\n",
    "gen_img = []\n",
    "\n",
    "sample = test_x[idx, 0:14, :]\n",
    "input_img = sample.copy()\n",
    "\n",
    "feeding_img = test_x[idx, 0:0+n_step, :]\n",
    "\n",
    "for i in range(n_step):\n",
    "    test_pred = sess.run(pred, feed_dict={x: feeding_img.reshape(1, 14, 28)})\n",
    "    feeding_img = np.delete(feeding_img, 0, 0)\n",
    "    feeding_img = np.vstack([feeding_img, test_pred])\n",
    "    gen_img.append(test_pred)\n",
    "\n",
    "\n",
    "for i in range(n_step):\n",
    "    sample = np.vstack([sample, gen_img[i]])\n",
    "    \n",
    "plt.imshow(test_x[idx], 'gray')\n",
    "plt.title('Original Img')\n",
    "plt.xticks([])\n",
    "plt.yticks([])\n",
    "plt.show()\n",
    "\n",
    "plt.figure(figsize=(4,3))\n",
    "plt.imshow(input_img, 'gray')\n",
    "plt.title('Input')\n",
    "plt.xticks([])\n",
    "plt.yticks([])\n",
    "plt.show()\n",
    "\n",
    "plt.imshow(sample, 'gray')\n",
    "plt.title('Generated Img')\n",
    "plt.xticks([])\n",
    "plt.yticks([])\n",
    "plt.show()"
   ]
  }
 ],
 "metadata": {
  "kernelspec": {
   "display_name": "Python 3",
   "language": "python",
   "name": "python3"
  },
  "language_info": {
   "codemirror_mode": {
    "name": "ipython",
    "version": 3
   },
   "file_extension": ".py",
   "mimetype": "text/x-python",
   "name": "python",
   "nbconvert_exporter": "python",
   "pygments_lexer": "ipython3",
   "version": "3.7.3"
  }
 },
 "nbformat": 4,
 "nbformat_minor": 2
}
