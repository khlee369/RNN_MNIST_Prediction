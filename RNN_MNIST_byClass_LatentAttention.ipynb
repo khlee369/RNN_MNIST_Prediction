{
 "cells": [
  {
   "cell_type": "markdown",
   "metadata": {},
   "source": [
    "# Import Library"
   ]
  },
  {
   "cell_type": "code",
   "execution_count": 1,
   "metadata": {},
   "outputs": [],
   "source": [
    "import tensorflow as tf\n",
    "from six.moves import cPickle\n",
    "import numpy as np\n",
    "import matplotlib.pyplot as plt\n",
    "import os\n",
    "import shutil\n",
    "import RNNLatentAttention"
   ]
  },
  {
   "cell_type": "markdown",
   "metadata": {},
   "source": [
    "# Load Data"
   ]
  },
  {
   "cell_type": "code",
   "execution_count": 2,
   "metadata": {
    "scrolled": true
   },
   "outputs": [
    {
     "name": "stdout",
     "output_type": "stream",
     "text": [
      "WARNING:tensorflow:From <ipython-input-2-8bf8ae5a5303>:2: read_data_sets (from tensorflow.contrib.learn.python.learn.datasets.mnist) is deprecated and will be removed in a future version.\n",
      "Instructions for updating:\n",
      "Please use alternatives such as official/mnist/dataset.py from tensorflow/models.\n",
      "WARNING:tensorflow:From C:\\Users\\Kwangho\\AppData\\Local\\conda\\conda\\envs\\py35\\lib\\site-packages\\tensorflow\\contrib\\learn\\python\\learn\\datasets\\mnist.py:260: maybe_download (from tensorflow.contrib.learn.python.learn.datasets.base) is deprecated and will be removed in a future version.\n",
      "Instructions for updating:\n",
      "Please write your own downloading logic.\n",
      "WARNING:tensorflow:From C:\\Users\\Kwangho\\AppData\\Local\\conda\\conda\\envs\\py35\\lib\\site-packages\\tensorflow\\contrib\\learn\\python\\learn\\datasets\\mnist.py:262: extract_images (from tensorflow.contrib.learn.python.learn.datasets.mnist) is deprecated and will be removed in a future version.\n",
      "Instructions for updating:\n",
      "Please use tf.data to implement this functionality.\n",
      "Extracting MNIST_data/train-images-idx3-ubyte.gz\n",
      "WARNING:tensorflow:From C:\\Users\\Kwangho\\AppData\\Local\\conda\\conda\\envs\\py35\\lib\\site-packages\\tensorflow\\contrib\\learn\\python\\learn\\datasets\\mnist.py:267: extract_labels (from tensorflow.contrib.learn.python.learn.datasets.mnist) is deprecated and will be removed in a future version.\n",
      "Instructions for updating:\n",
      "Please use tf.data to implement this functionality.\n",
      "Extracting MNIST_data/train-labels-idx1-ubyte.gz\n",
      "WARNING:tensorflow:From C:\\Users\\Kwangho\\AppData\\Local\\conda\\conda\\envs\\py35\\lib\\site-packages\\tensorflow\\contrib\\learn\\python\\learn\\datasets\\mnist.py:110: dense_to_one_hot (from tensorflow.contrib.learn.python.learn.datasets.mnist) is deprecated and will be removed in a future version.\n",
      "Instructions for updating:\n",
      "Please use tf.one_hot on tensors.\n",
      "Extracting MNIST_data/t10k-images-idx3-ubyte.gz\n",
      "Extracting MNIST_data/t10k-labels-idx1-ubyte.gz\n",
      "WARNING:tensorflow:From C:\\Users\\Kwangho\\AppData\\Local\\conda\\conda\\envs\\py35\\lib\\site-packages\\tensorflow\\contrib\\learn\\python\\learn\\datasets\\mnist.py:290: DataSet.__init__ (from tensorflow.contrib.learn.python.learn.datasets.mnist) is deprecated and will be removed in a future version.\n",
      "Instructions for updating:\n",
      "Please use alternatives such as official/mnist/dataset.py from tensorflow/models.\n"
     ]
    }
   ],
   "source": [
    "from tensorflow.examples.tutorials.mnist import input_data\n",
    "mnist = input_data.read_data_sets(\"MNIST_data/\", one_hot=True)"
   ]
  },
  {
   "cell_type": "code",
   "execution_count": 4,
   "metadata": {},
   "outputs": [
    {
     "data": {
      "image/png": "[encoded data removed]",
      "text/plain": [
       "<Figure size 360x216 with 1 Axes>"
      ]
     },
     "metadata": {},
     "output_type": "display_data"
    }
   ],
   "source": [
    "# Check data\n",
    "idx = 9\n",
    "train_x, train_y = mnist.train.next_batch(10)\n",
    "img = train_x[idx,:].reshape(28, 28)\n",
    "\n",
    "plt.figure(figsize=(5, 3))\n",
    "plt.imshow(img,'gray')\n",
    "plt.title(\"Label : {}\".format(np.argmax(train_y[idx])))\n",
    "plt.xticks([])\n",
    "plt.yticks([])\n",
    "plt.show()"
   ]
  },
  {
   "cell_type": "markdown",
   "metadata": {},
   "source": [
    "# Build RNN"
   ]
  },
  {
   "cell_type": "code",
   "execution_count": 4,
   "metadata": {},
   "outputs": [],
   "source": [
    "n_step = 14\n",
    "n_input = 28\n",
    "\n",
    "## LSTM shape\n",
    "n_lstm1 = 128\n",
    "n_lstm2 = 258\n",
    "\n",
    "## Fully connected\n",
    "n_hidden1 = 100\n",
    "n_output = 28\n",
    "n_labels = 10"
   ]
  },
  {
   "cell_type": "markdown",
   "metadata": {},
   "source": [
    "# RNN Model(save,load)"
   ]
  },
  {
   "cell_type": "code",
   "execution_count": 5,
   "metadata": {},
   "outputs": [],
   "source": [
    "config = {\n",
    "    'ID' : 'test_RNN_class',\n",
    "    'n_iter' : 1000,\n",
    "    'n_prt' : 100,\n",
    "    'n_input' : 28,\n",
    "    'n_step' : 14,\n",
    "    'n_output' : 28,\n",
    "    'n_batch' : 50,\n",
    "    'n_save' : 1000,\n",
    "    'n_history' : 50,\n",
    "    'LR' : 0.0002\n",
    "}"
   ]
  },
  {
   "cell_type": "code",
   "execution_count": 6,
   "metadata": {},
   "outputs": [
    {
     "name": "stdout",
     "output_type": "stream",
     "text": [
      "[FileExistsError] Will you remove directory? [Y/N] Y\n",
      "Model ID : test_RNN_class\n",
      "Model saved at : ./test_RNN_class\n"
     ]
    }
   ],
   "source": [
    "my_rnn = RNNLatentAttention.RNN(config=config)"
   ]
  },
  {
   "cell_type": "code",
   "execution_count": 7,
   "metadata": {},
   "outputs": [
    {
     "name": "stdout",
     "output_type": "stream",
     "text": [
      "Your loss (100/1000) : 0.0032370362896472216\n",
      "Your loss (200/1000) : 0.0021850201301276684\n",
      "Your loss (300/1000) : 0.0020245423074811697\n",
      "Your loss (400/1000) : 0.002888420596718788\n",
      "Your loss (500/1000) : 0.001154248253442347\n",
      "Your loss (600/1000) : 0.003264973871409893\n",
      "Your loss (700/1000) : 0.0008948213653638959\n",
      "Your loss (800/1000) : 0.002606755355373025\n",
      "Your loss (900/1000) : 0.0011273352429270744\n",
      "Your loss (1000/1000) : 0.002530268393456936\n",
      "INFO:tensorflow:./test_RNN_class/checkpoint/test_RNN_class_1000 is not in all_model_checkpoint_paths. Manually adding it.\n"
     ]
    }
   ],
   "source": [
    "my_rnn.fit(mnist)"
   ]
  },
  {
   "cell_type": "code",
   "execution_count": 5,
   "metadata": {},
   "outputs": [],
   "source": [
    "config2 = {\n",
    "    'ID' : 'Output',\n",
    "    'n_iter' : 1000,\n",
    "    'n_prt' : 100,\n",
    "    'n_input' : 28,\n",
    "    'n_step' : 14,\n",
    "    'n_output' : 28,\n",
    "    'n_batch' : 50,\n",
    "    'n_save' : 1000,\n",
    "    'n_history' : 50,\n",
    "    'LR' : 0.0002\n",
    "}"
   ]
  },
  {
   "cell_type": "code",
   "execution_count": 6,
   "metadata": {},
   "outputs": [
    {
     "name": "stdout",
     "output_type": "stream",
     "text": [
      "[FileExistsError] Will you remove directory? [Y/N] Y\n",
      "Model ID : Output\n",
      "Model saved at : ./Output\n"
     ]
    }
   ],
   "source": [
    "test_rnn = RNNLatentAttention.RNN(config=config2)"
   ]
  },
  {
   "cell_type": "code",
   "execution_count": 7,
   "metadata": {},
   "outputs": [
    {
     "name": "stdout",
     "output_type": "stream",
     "text": [
      "INFO:tensorflow:Restoring parameters from ./test_RNN_class/checkpoint/test_RNN_class_1000\n",
      "Model loaded from file : ./test_RNN_class/checkpoint/test_RNN_class_1000\n"
     ]
    }
   ],
   "source": [
    "test_rnn.load('./test_RNN_class/checkpoint/test_RNN_class_1000')"
   ]
  },
  {
   "cell_type": "code",
   "execution_count": 8,
   "metadata": {},
   "outputs": [],
   "source": [
    "test_x, test_y = mnist.test.next_batch(10)\n",
    "test_x = test_x.reshape(-1, 28, 28)\n",
    "\n",
    "sample = test_x[0, 0:14,:]\n",
    "\n",
    "gen_img = test_rnn.predict(sample)"
   ]
  },
  {
   "cell_type": "code",
   "execution_count": 17,
   "metadata": {},
   "outputs": [],
   "source": [
    "gen_img_clip = np.clip(gen_img, 0.9, 1)"
   ]
  },
  {
   "cell_type": "code",
   "execution_count": 26,
   "metadata": {},
   "outputs": [
    {
     "data": {
      "image/png": "[encoded data removed]",
      "text/plain": [
       "<Figure size 432x288 with 1 Axes>"
      ]
     },
     "metadata": {},
     "output_type": "display_data"
    },
    {
     "data": {
      "image/png": "[encoded data removed]",
      "text/plain": [
       "<Figure size 288x216 with 1 Axes>"
      ]
     },
     "metadata": {},
     "output_type": "display_data"
    },
    {
     "data": {
      "image/png": "[encoded data removed]",
      "text/plain": [
       "<Figure size 432x288 with 1 Axes>"
      ]
     },
     "metadata": {},
     "output_type": "display_data"
    },
    {
     "data": {
      "image/png": "[encoded data removed]",
      "text/plain": [
       "<Figure size 432x288 with 1 Axes>"
      ]
     },
     "metadata": {},
     "output_type": "display_data"
    }
   ],
   "source": [
    "test_x, test_y = mnist.test.next_batch(10)\n",
    "test_x = test_x.reshape(-1, 28, 28)\n",
    "\n",
    "sample = test_x[0, 0:14,:]\n",
    "\n",
    "gen_img = test_rnn.predict(sample)\n",
    "gen_img_clip = np.clip(gen_img, 0.8, 1)\n",
    "\n",
    "plt.imshow(test_x[0], 'gray')\n",
    "plt.title('Original Img')\n",
    "plt.xticks([])\n",
    "plt.yticks([])\n",
    "plt.show()\n",
    "\n",
    "plt.figure(figsize=(4,3))\n",
    "plt.imshow(sample, 'gray')\n",
    "plt.title('Input')\n",
    "plt.xticks([])\n",
    "plt.yticks([])\n",
    "plt.show()\n",
    "\n",
    "plt.imshow(gen_img, 'gray')\n",
    "plt.title('Generated Img')\n",
    "plt.xticks([])\n",
    "plt.yticks([])\n",
    "plt.show()\n",
    "\n",
    "plt.imshow(gen_img_clip, 'gray')\n",
    "plt.title('Generated Img')\n",
    "plt.xticks([])\n",
    "plt.yticks([])\n",
    "plt.show()"
   ]
  },
  {
   "cell_type": "markdown",
   "metadata": {},
   "source": [
    "# Feature map"
   ]
  },
  {
   "cell_type": "code",
   "execution_count": 28,
   "metadata": {},
   "outputs": [],
   "source": [
    "feature_dic = test_rnn.feature"
   ]
  },
  {
   "cell_type": "code",
   "execution_count": 29,
   "metadata": {},
   "outputs": [],
   "source": [
    "lstm1_h = feature_dic['lstm1_h']\n",
    "lstm1_c = feature_dic['lstm1_c']\n",
    "lstm2_h = feature_dic['lstm2_h']\n",
    "lstm2_c = feature_dic['lstm2_c']"
   ]
  },
  {
   "cell_type": "code",
   "execution_count": 30,
   "metadata": {},
   "outputs": [],
   "source": [
    "tmp_input = sample.reshape(1, 14, 28)"
   ]
  },
  {
   "cell_type": "code",
   "execution_count": 31,
   "metadata": {},
   "outputs": [],
   "source": [
    "val_lstm1_h = test_rnn.sess.run(lstm1_h, feed_dict={test_rnn.x:tmp_input})\n",
    "val_lstm1_c = test_rnn.sess.run(lstm1_c, feed_dict={test_rnn.x:tmp_input})\n",
    "val_lstm2_h = test_rnn.sess.run(lstm2_h, feed_dict={test_rnn.x:tmp_input})\n",
    "val_lstm2_c = test_rnn.sess.run(lstm2_c, feed_dict={test_rnn.x:tmp_input})"
   ]
  },
  {
   "cell_type": "code",
   "execution_count": 32,
   "metadata": {},
   "outputs": [
    {
     "name": "stdout",
     "output_type": "stream",
     "text": [
      "(1, 128)\n",
      "(1, 128)\n",
      "(1, 256)\n",
      "(1, 256)\n"
     ]
    }
   ],
   "source": [
    "print(val_lstm1_c.h.shape)\n",
    "print(val_lstm1_c.c.shape)\n",
    "print(val_lstm2_c.h.shape)\n",
    "print(val_lstm2_c.c.shape)"
   ]
  },
  {
   "cell_type": "code",
   "execution_count": 39,
   "metadata": {},
   "outputs": [
    {
     "data": {
      "text/plain": [
       "0.0040083104"
      ]
     },
     "execution_count": 39,
     "metadata": {},
     "output_type": "execute_result"
    }
   ],
   "source": [
    "np.min(abs(val_lstm1_c.c))"
   ]
  },
  {
   "cell_type": "code",
   "execution_count": 33,
   "metadata": {
    "scrolled": true
   },
   "outputs": [
    {
     "data": {
      "text/plain": [
       "array([[-1.10724926e-01,  3.35071117e-01,  2.62125641e-01,\n",
       "        -2.06290483e-01, -4.40824419e-01,  5.43473482e-01,\n",
       "        -2.79693604e-01, -6.56329155e-01,  4.05213642e+00,\n",
       "         7.71377161e-02,  6.53558224e-02, -1.54142380e+00,\n",
       "         2.43670762e-01, -7.03909099e-01, -1.30483940e-01,\n",
       "        -7.23654270e-01,  1.35438442e+00,  6.81020141e-01,\n",
       "         7.81808734e-01, -3.31742585e-01,  3.94058037e+00,\n",
       "        -5.81723332e-01, -5.36649004e-02, -7.26382017e-01,\n",
       "         1.31993163e-02, -1.19221993e-01, -5.68198301e-02,\n",
       "         2.25435114e+00, -3.47830772e-01, -7.44345427e-01,\n",
       "         3.04516882e-01, -4.91318882e-01,  1.14968681e+00,\n",
       "        -1.85723090e+00, -5.56843877e-01,  3.40902537e-01,\n",
       "         1.37560725e+00,  5.39061010e-01, -3.58988494e-01,\n",
       "         8.13026950e-02,  6.05895102e-01,  6.74771309e-01,\n",
       "         5.08064628e-01, -1.31647289e-01,  4.15260881e-01,\n",
       "        -1.05016232e+00, -1.94666043e-01,  1.12156697e-01,\n",
       "        -7.55527020e-02,  1.26716828e+00, -2.56855249e-01,\n",
       "        -3.14311206e-01,  1.04661584e-02,  2.34267116e-01,\n",
       "        -2.38263309e-01, -4.78457928e-01,  2.43657827e-01,\n",
       "         6.18756771e-01, -3.31192881e-01, -2.21631336e+00,\n",
       "        -4.25978470e+00, -5.01132131e-01,  1.04711211e+00,\n",
       "        -1.99939050e-02, -3.03549051e-01,  5.03217697e-01,\n",
       "        -3.97189260e+00,  1.22717857e-01,  6.84318990e-02,\n",
       "        -1.63647324e-01,  1.66463804e+00, -5.32888126e+00,\n",
       "        -2.25598328e-02,  1.31578636e+00, -1.04613215e-01,\n",
       "        -2.10835204e-01,  2.65583228e-02,  1.31374508e-01,\n",
       "         5.70651472e-01,  3.64061415e-01,  3.64746541e-01,\n",
       "         7.12185144e-01,  3.10994625e-01,  2.03843877e-01,\n",
       "         1.71846628e-01, -4.94418025e-01, -4.00831038e-03,\n",
       "         4.33054805e-01, -5.01202226e-01, -7.68164515e-01,\n",
       "         7.74076283e-02,  5.82525134e-01, -3.33689377e-02,\n",
       "        -7.34409750e-01, -5.99768162e-01, -3.52918059e-01,\n",
       "        -1.26504636e+00, -5.62846780e-01, -2.20514372e-01,\n",
       "         4.43672776e-01, -1.67807922e-01, -3.22300404e-01,\n",
       "         5.62967360e-03,  1.15717739e-01,  4.14516389e-01,\n",
       "         1.83684051e-01, -4.37993594e-02, -5.10750830e-01,\n",
       "        -7.73960590e-01, -1.73326954e-02,  2.79672772e-01,\n",
       "         1.72979444e-01, -1.20653771e-01,  1.88655451e-01,\n",
       "        -1.08813310e+00,  4.73863006e-01, -3.60622734e-01,\n",
       "        -6.37609422e-01, -3.13174576e-02, -5.31487405e-01,\n",
       "         5.13531208e-01, -1.37526321e+00, -9.34848934e-02,\n",
       "        -2.05733404e-01, -1.25871763e-01,  1.32458717e-01,\n",
       "        -7.23545671e-01, -6.19674772e-02]], dtype=float32)"
      ]
     },
     "execution_count": 33,
     "metadata": {},
     "output_type": "execute_result"
    }
   ],
   "source": [
    "val_lstm1_c.c"
   ]
  },
  {
   "cell_type": "code",
   "execution_count": 34,
   "metadata": {
    "scrolled": true
   },
   "outputs": [
    {
     "data": {
      "text/plain": [
       "array([[-0.10541942,  0.21506205,  0.24542369, -0.20126231, -0.4131161 ,\n",
       "         0.44288945, -0.11359196, -0.2572259 ,  0.7073792 ,  0.05085625,\n",
       "         0.06514113, -0.26341918,  0.21036778, -0.45586625, -0.05310346,\n",
       "        -0.23372722,  0.6945408 ,  0.14332436,  0.4599558 , -0.12692861,\n",
       "         0.7064197 , -0.20325927, -0.05352566, -0.28106987,  0.01297818,\n",
       "        -0.09597316, -0.05665883,  0.4697801 , -0.33337122, -0.60187024,\n",
       "         0.29466602, -0.4491862 ,  0.6662256 , -0.6980951 , -0.21285298,\n",
       "         0.32798442,  0.58646005,  0.24373592, -0.34153512,  0.07004026,\n",
       "         0.45787284,  0.3678174 ,  0.36984745, -0.13035911,  0.22099358,\n",
       "        -0.46792755, -0.18277326,  0.11149323, -0.04704001,  0.67427754,\n",
       "        -0.25120673, -0.24930204,  0.0065079 ,  0.17445767, -0.17788132,\n",
       "        -0.4357288 ,  0.14884746,  0.19264662, -0.2123735 , -0.34716788,\n",
       "        -0.36342812, -0.34209183,  0.423241  , -0.01923198, -0.13227294,\n",
       "         0.4625382 , -0.19642209,  0.12160487,  0.06827874, -0.12982278,\n",
       "         0.49137348, -0.730799  , -0.02248426,  0.47097722, -0.08019621,\n",
       "        -0.20185907,  0.02586089,  0.10253253,  0.51374584,  0.2493973 ,\n",
       "         0.33407992,  0.25006872,  0.1398605 ,  0.11434526,  0.1329814 ,\n",
       "        -0.40609306, -0.00400298,  0.2816105 , -0.15536451, -0.32975647,\n",
       "         0.07578852,  0.4054978 , -0.03322702, -0.45608604, -0.51372665,\n",
       "        -0.32977358, -0.34492317, -0.36767983, -0.12910451,  0.4158265 ,\n",
       "        -0.16372539, -0.17747553,  0.00542834,  0.11355802,  0.3521332 ,\n",
       "         0.17089151, -0.04310299, -0.17174442, -0.30864155, -0.01499066,\n",
       "         0.2645157 ,  0.1709063 , -0.05722059,  0.18539637, -0.36932966,\n",
       "         0.3184259 , -0.17711756, -0.21411313, -0.0280967 , -0.37763047,\n",
       "         0.21558033, -0.5078559 , -0.08996467, -0.17727898, -0.10257402,\n",
       "         0.08011291, -0.40018058, -0.04962219]], dtype=float32)"
      ]
     },
     "execution_count": 34,
     "metadata": {},
     "output_type": "execute_result"
    }
   ],
   "source": [
    "val_lstm1_c.h"
   ]
  },
  {
   "cell_type": "code",
   "execution_count": 35,
   "metadata": {
    "scrolled": true
   },
   "outputs": [
    {
     "data": {
      "text/plain": [
       "array([[-0.10541942,  0.21506205,  0.24542369, -0.20126231, -0.4131161 ,\n",
       "         0.44288945, -0.11359196, -0.2572259 ,  0.7073792 ,  0.05085625,\n",
       "         0.06514113, -0.26341918,  0.21036778, -0.45586625, -0.05310346,\n",
       "        -0.23372722,  0.6945408 ,  0.14332436,  0.4599558 , -0.12692861,\n",
       "         0.7064197 , -0.20325927, -0.05352566, -0.28106987,  0.01297818,\n",
       "        -0.09597316, -0.05665883,  0.4697801 , -0.33337122, -0.60187024,\n",
       "         0.29466602, -0.4491862 ,  0.6662256 , -0.6980951 , -0.21285298,\n",
       "         0.32798442,  0.58646005,  0.24373592, -0.34153512,  0.07004026,\n",
       "         0.45787284,  0.3678174 ,  0.36984745, -0.13035911,  0.22099358,\n",
       "        -0.46792755, -0.18277326,  0.11149323, -0.04704001,  0.67427754,\n",
       "        -0.25120673, -0.24930204,  0.0065079 ,  0.17445767, -0.17788132,\n",
       "        -0.4357288 ,  0.14884746,  0.19264662, -0.2123735 , -0.34716788,\n",
       "        -0.36342812, -0.34209183,  0.423241  , -0.01923198, -0.13227294,\n",
       "         0.4625382 , -0.19642209,  0.12160487,  0.06827874, -0.12982278,\n",
       "         0.49137348, -0.730799  , -0.02248426,  0.47097722, -0.08019621,\n",
       "        -0.20185907,  0.02586089,  0.10253253,  0.51374584,  0.2493973 ,\n",
       "         0.33407992,  0.25006872,  0.1398605 ,  0.11434526,  0.1329814 ,\n",
       "        -0.40609306, -0.00400298,  0.2816105 , -0.15536451, -0.32975647,\n",
       "         0.07578852,  0.4054978 , -0.03322702, -0.45608604, -0.51372665,\n",
       "        -0.32977358, -0.34492317, -0.36767983, -0.12910451,  0.4158265 ,\n",
       "        -0.16372539, -0.17747553,  0.00542834,  0.11355802,  0.3521332 ,\n",
       "         0.17089151, -0.04310299, -0.17174442, -0.30864155, -0.01499066,\n",
       "         0.2645157 ,  0.1709063 , -0.05722059,  0.18539637, -0.36932966,\n",
       "         0.3184259 , -0.17711756, -0.21411313, -0.0280967 , -0.37763047,\n",
       "         0.21558033, -0.5078559 , -0.08996467, -0.17727898, -0.10257402,\n",
       "         0.08011291, -0.40018058, -0.04962219]], dtype=float32)"
      ]
     },
     "execution_count": 35,
     "metadata": {},
     "output_type": "execute_result"
    }
   ],
   "source": [
    "val_lstm1_h[:,-1,:]"
   ]
  },
  {
   "cell_type": "code",
   "execution_count": 32,
   "metadata": {},
   "outputs": [
    {
     "name": "stdout",
     "output_type": "stream",
     "text": [
      "(1, 14, 128)\n",
      "(1, 14, 256)\n"
     ]
    }
   ],
   "source": [
    "print(val_lstm1_h.shape)\n",
    "print(val_lstm2_h.shape)"
   ]
  },
  {
   "cell_type": "code",
   "execution_count": null,
   "metadata": {},
   "outputs": [],
   "source": []
  },
  {
   "cell_type": "code",
   "execution_count": null,
   "metadata": {},
   "outputs": [],
   "source": []
  },
  {
   "cell_type": "code",
   "execution_count": null,
   "metadata": {},
   "outputs": [],
   "source": []
  },
  {
   "cell_type": "code",
   "execution_count": null,
   "metadata": {},
   "outputs": [],
   "source": []
  },
  {
   "cell_type": "code",
   "execution_count": null,
   "metadata": {},
   "outputs": [],
   "source": [
    "config3 = {\n",
    "    'ID' : 'Hanwha_RNN',\n",
    "    'n_iter' : 5000,\n",
    "    'n_prt' : 100,\n",
    "    'n_input' : 28,\n",
    "    'n_step' : 14,\n",
    "    'n_output' : 28,\n",
    "    'n_batch' : 50,\n",
    "    'n_save' : 1000,\n",
    "    'n_history' : 50,\n",
    "    'LR' : 0.0002\n",
    "}"
   ]
  },
  {
   "cell_type": "code",
   "execution_count": null,
   "metadata": {},
   "outputs": [],
   "source": [
    "hanwha_rnn = RNN(config=config3)"
   ]
  },
  {
   "cell_type": "code",
   "execution_count": null,
   "metadata": {},
   "outputs": [],
   "source": [
    "hanwha_rnn.load('./test_RNN/checkpoint/test_RNN_1000')"
   ]
  },
  {
   "cell_type": "code",
   "execution_count": null,
   "metadata": {
    "scrolled": true
   },
   "outputs": [],
   "source": [
    "hanwha_rnn.fit(mnist)"
   ]
  },
  {
   "cell_type": "code",
   "execution_count": null,
   "metadata": {},
   "outputs": [],
   "source": [
    "test_x, test_y = mnist.test.next_batch(10)\n",
    "test_x = test_x.reshape(-1, 28, 28)\n",
    "\n",
    "sample = test_x[0, 0:14,:]\n",
    "\n",
    "gen_img = hanwha_rnn.predict(sample)\n",
    "\n",
    "plt.imshow(test_x[0], 'gray')\n",
    "plt.title('Original Img')\n",
    "plt.xticks([])\n",
    "plt.yticks([])\n",
    "plt.show()\n",
    "\n",
    "plt.figure(figsize=(4,3))\n",
    "plt.imshow(sample, 'gray')\n",
    "plt.title('Input')\n",
    "plt.xticks([])\n",
    "plt.yticks([])\n",
    "plt.show()\n",
    "\n",
    "plt.imshow(gen_img, 'gray')\n",
    "plt.title('Generated Img')\n",
    "plt.xticks([])\n",
    "plt.yticks([])\n",
    "plt.show()"
   ]
  },
  {
   "cell_type": "code",
   "execution_count": null,
   "metadata": {},
   "outputs": [],
   "source": [
    "config3 = {\n",
    "    'ID' : 'Hanwha_RNN2',\n",
    "    'n_iter' : 5000,\n",
    "    'n_prt' : 100,\n",
    "    'n_input' : 28,\n",
    "    'n_step' : 14,\n",
    "    'n_output' : 28,\n",
    "    'n_batch' : 50,\n",
    "    'n_save' : 1000,\n",
    "    'n_history' : 50,\n",
    "    'LR' : 0.0002\n",
    "}"
   ]
  },
  {
   "cell_type": "code",
   "execution_count": null,
   "metadata": {},
   "outputs": [],
   "source": [
    "mm = RNN(config=config3)"
   ]
  },
  {
   "cell_type": "code",
   "execution_count": null,
   "metadata": {},
   "outputs": [],
   "source": [
    "mm.load('./Hanwha_RNN/checkpoint/Hanwha_RNN_2000')"
   ]
  },
  {
   "cell_type": "code",
   "execution_count": null,
   "metadata": {},
   "outputs": [],
   "source": [
    "test_x, test_y = mnist.test.next_batch(10)\n",
    "test_x = test_x.reshape(-1, 28, 28)\n",
    "\n",
    "sample = test_x[0, 0:14,:]\n",
    "\n",
    "gen_img = mm.predict(sample)\n",
    "\n",
    "plt.imshow(test_x[0], 'gray')\n",
    "plt.title('Original Img')\n",
    "plt.xticks([])\n",
    "plt.yticks([])\n",
    "plt.show()\n",
    "\n",
    "plt.figure(figsize=(4,3))\n",
    "plt.imshow(sample, 'gray')\n",
    "plt.title('Input')\n",
    "plt.xticks([])\n",
    "plt.yticks([])\n",
    "plt.show()\n",
    "\n",
    "plt.imshow(gen_img, 'gray')\n",
    "plt.title('Generated Img')\n",
    "plt.xticks([])\n",
    "plt.yticks([])\n",
    "plt.show()"
   ]
  }
 ],
 "metadata": {
  "kernelspec": {
   "display_name": "Python [conda env:py35]",
   "language": "python",
   "name": "conda-env-py35-py"
  },
  "language_info": {
   "codemirror_mode": {
    "name": "ipython",
    "version": 3
   },
   "file_extension": ".py",
   "mimetype": "text/x-python",
   "name": "python",
   "nbconvert_exporter": "python",
   "pygments_lexer": "ipython3",
   "version": "3.5.6"
  }
 },
 "nbformat": 4,
 "nbformat_minor": 2
}
